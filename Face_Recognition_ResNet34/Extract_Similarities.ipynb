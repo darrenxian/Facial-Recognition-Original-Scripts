{
 "cells": [
  {
   "cell_type": "code",
   "execution_count": 1,
   "metadata": {
    "tags": []
   },
   "outputs": [],
   "source": [
    "import face_recognition\n",
    "import os\n",
    "import numpy as np\n",
    "import pandas as pd"
   ]
  },
  {
   "cell_type": "code",
   "execution_count": 2,
   "metadata": {},
   "outputs": [],
   "source": [
    "def inverted_norm(column): # Higher = 0 lower = 1\n",
    "    Data_aux = np.array(General_Data[[column]]).flatten()\n",
    "    Data_aux = np.reshape(Data_aux,[-1,1]).flatten()\n",
    "\n",
    "    norm_data =1- ( Data_aux - min(Data_aux)) / ( max(Data_aux) - min(Data_aux) )\n",
    "    return (norm_data)\n"
   ]
  },
  {
   "cell_type": "code",
   "execution_count": 3,
   "metadata": {},
   "outputs": [],
   "source": [
    "def face_distance(img1,img2):\n",
    "    img1 = face_recognition.load_image_file(img1)\n",
    "    img1_face_encoding = face_recognition.face_encodings(img1,known_face_locations=[(0, 224, 224, 0)])[0]\n",
    "    known_encodings = [\n",
    "        img1_face_encoding\n",
    "        ]\n",
    "\n",
    "    image_to_test = face_recognition.load_image_file(img2)\n",
    "    image_to_test_encoding = face_recognition.face_encodings(image_to_test,known_face_locations=[(0, 224, 224, 0)])[0]\n",
    "\n",
    "    face_distances = face_recognition.face_distance(known_encodings, image_to_test_encoding)\n",
    "    return(face_distances[0])"
   ]
  },
  {
   "cell_type": "markdown",
   "metadata": {},
   "source": [
    "### Read database:"
   ]
  },
  {
   "cell_type": "code",
   "execution_count": 4,
   "metadata": {},
   "outputs": [],
   "source": [
    "list_dir = os.listdir('Database/')"
   ]
  },
  {
   "cell_type": "code",
   "execution_count": 5,
   "metadata": {},
   "outputs": [
    {
     "name": "stdout",
     "output_type": "stream",
     "text": [
      "0\n",
      "1\n",
      "2\n",
      "3\n",
      "4\n"
     ]
    }
   ],
   "source": [
    "\n",
    "model_result=[]\n",
    "for i in range(len(list_dir)):\n",
    "    print(i)\n",
    "    for j in range(len(list_dir)):\n",
    "        model_result.append(face_distance('Database/'+list_dir[i],'Database/'+list_dir[j]))"
   ]
  },
  {
   "cell_type": "code",
   "execution_count": 6,
   "metadata": {},
   "outputs": [
    {
     "name": "stdout",
     "output_type": "stream",
     "text": [
      "0.0\n",
      "0.43953838259202493\n",
      "0.7428962900261596\n",
      "0.7364548045169971\n",
      "0.6732217874357972\n",
      "0.43953838259202493\n",
      "0.0\n",
      "0.7287944034349914\n",
      "0.8148521481855947\n",
      "0.6752608156598214\n",
      "0.7428962900261596\n",
      "0.7287944034349914\n",
      "0.0\n",
      "0.5641510312251606\n",
      "0.8117297387026806\n",
      "0.7364548045169971\n",
      "0.8148521481855947\n",
      "0.5641510312251606\n",
      "0.0\n",
      "0.7605790576659123\n",
      "0.6732217874357972\n",
      "0.6752608156598214\n",
      "0.8117297387026806\n",
      "0.7605790576659123\n",
      "0.0\n"
     ]
    }
   ],
   "source": [
    "for i in range(len(model_result)):\n",
    "    print(model_result[i])"
   ]
  },
  {
   "cell_type": "markdown",
   "metadata": {},
   "source": [
    "# Measure time"
   ]
  },
  {
   "cell_type": "code",
   "execution_count": 10,
   "metadata": {},
   "outputs": [
    {
     "ename": "AttributeError",
     "evalue": "module 'time' has no attribute 'clock'",
     "output_type": "error",
     "traceback": [
      "\u001b[1;31m---------------------------------------------------------------------------\u001b[0m",
      "\u001b[1;31mAttributeError\u001b[0m                            Traceback (most recent call last)",
      "\u001b[1;32m<ipython-input-10-c1962e256dde>\u001b[0m in \u001b[0;36m<module>\u001b[1;34m\u001b[0m\n\u001b[0;32m      2\u001b[0m \u001b[1;33m\u001b[0m\u001b[0m\n\u001b[0;32m      3\u001b[0m \u001b[1;32mfor\u001b[0m \u001b[0mi\u001b[0m \u001b[1;32min\u001b[0m \u001b[0mrange\u001b[0m\u001b[1;33m(\u001b[0m\u001b[1;36m20\u001b[0m\u001b[1;33m)\u001b[0m\u001b[1;33m:\u001b[0m\u001b[1;33m\u001b[0m\u001b[1;33m\u001b[0m\u001b[0m\n\u001b[1;32m----> 4\u001b[1;33m     \u001b[0mt0\u001b[0m\u001b[1;33m=\u001b[0m \u001b[0mtime\u001b[0m\u001b[1;33m.\u001b[0m\u001b[0mclock\u001b[0m\u001b[1;33m(\u001b[0m\u001b[1;33m)\u001b[0m\u001b[1;33m\u001b[0m\u001b[1;33m\u001b[0m\u001b[0m\n\u001b[0m\u001b[0;32m      5\u001b[0m     \u001b[0mface_distance\u001b[0m\u001b[1;33m(\u001b[0m\u001b[0mlist_dir\u001b[0m\u001b[1;33m[\u001b[0m\u001b[0mi\u001b[0m\u001b[1;33m]\u001b[0m\u001b[1;33m,\u001b[0m\u001b[0mlist_dir\u001b[0m\u001b[1;33m[\u001b[0m\u001b[0mi\u001b[0m\u001b[1;33m]\u001b[0m\u001b[1;33m)\u001b[0m\u001b[1;33m\u001b[0m\u001b[1;33m\u001b[0m\u001b[0m\n\u001b[0;32m      6\u001b[0m     \u001b[0mt1\u001b[0m \u001b[1;33m=\u001b[0m \u001b[0mtime\u001b[0m\u001b[1;33m.\u001b[0m\u001b[0mclock\u001b[0m\u001b[1;33m(\u001b[0m\u001b[1;33m)\u001b[0m \u001b[1;33m-\u001b[0m \u001b[0mt0\u001b[0m\u001b[1;33m\u001b[0m\u001b[1;33m\u001b[0m\u001b[0m\n",
      "\u001b[1;31mAttributeError\u001b[0m: module 'time' has no attribute 'clock'"
     ]
    }
   ],
   "source": [
    "import time\n",
    "\n",
    "for i in range(20):\n",
    "    t0= time.clock()\n",
    "    face_distance(list_dir[i],list_dir[i])\n",
    "    t1 = time.clock() - t0\n",
    "    print(t1) # CPU seconds elapsed (floating point)"
   ]
  },
  {
   "cell_type": "code",
   "execution_count": null,
   "metadata": {},
   "outputs": [],
   "source": []
  }
 ],
 "metadata": {
  "kernelspec": {
   "display_name": "Python 3",
   "language": "python",
   "name": "python3"
  },
  "language_info": {
   "codemirror_mode": {
    "name": "ipython",
    "version": 3
   },
   "file_extension": ".py",
   "mimetype": "text/x-python",
   "name": "python",
   "nbconvert_exporter": "python",
   "pygments_lexer": "ipython3",
   "version": "3.8.10"
  }
 },
 "nbformat": 4,
 "nbformat_minor": 4
}
